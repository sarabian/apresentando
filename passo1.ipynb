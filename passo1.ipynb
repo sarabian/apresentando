{
  "nbformat": 4,
  "nbformat_minor": 0,
  "metadata": {
    "colab": {
      "provenance": [],
      "authorship_tag": "ABX9TyOT+ypC0RuSqwHGw49+2QaD",
      "include_colab_link": true
    },
    "kernelspec": {
      "name": "python3",
      "display_name": "Python 3"
    },
    "language_info": {
      "name": "python"
    }
  },
  "cells": [
    {
      "cell_type": "markdown",
      "metadata": {
        "id": "view-in-github",
        "colab_type": "text"
      },
      "source": [
        "<a href=\"https://colab.research.google.com/github/sarabian/apresentando/blob/main/passo1.ipynb\" target=\"_parent\"><img src=\"https://colab.research.google.com/assets/colab-badge.svg\" alt=\"Open In Colab\"/></a>"
      ]
    },
    {
      "cell_type": "code",
      "execution_count": 1,
      "metadata": {
        "colab": {
          "base_uri": "https://localhost:8080/"
        },
        "id": "QeetwG3OPfrh",
        "outputId": "f11972db-496c-4989-98a0-32c8aa33c979"
      },
      "outputs": [
        {
          "output_type": "stream",
          "name": "stdout",
          "text": [
            "Digite seu nome: \n",
            "sara\n",
            "Olá, sara! Prazer em conhecer você!\n",
            "Olá, mundo!\n",
            "Hello, world!\n"
          ]
        }
      ],
      "source": [
        "# script Python que leia o nome de uma pessoa e mostre uma mensagem de boas-vindas de acordo com o valor digitado\n",
        "\n",
        "entrada = input(\"Digite seu nome: \\n\")\n",
        "print(\"Olá, {}! Prazer em conhecer você!\".format(entrada))\n",
        "\n",
        "#programa que escreva \"Olá, mundo\" na tela.\n",
        "\n",
        "print(\"Olá, mundo!\")\n",
        "msg = \"Hello, world!\"\n",
        "print(msg)"
      ]
    },
    {
      "cell_type": "code",
      "source": [
        "# script Python que leia o dia, o mês e o ano de nascimento de uma pessoa e mostre uma mensagem com a data formatada\n",
        "\n",
        "ano = int(input(\"Ano de nascimento: \\n\"))\n",
        "mes = int(input(\"Mês de nascimento: \\n\"))\n",
        "dia = int(input(\"Dia de nascimento: \\n\"))\n",
        "\n",
        "print(\"A pessoa nasceu em: {}/{}/{}\".format(dia, mes, ano))\n",
        "print(\"A pessoa nasceu no dia {} do mês {} do ano de {}.\".format(dia, mes, ano))"
      ],
      "metadata": {
        "colab": {
          "base_uri": "https://localhost:8080/"
        },
        "id": "f90BvYSkPyON",
        "outputId": "eceadaf7-131c-474d-af2e-7ad7d905bb23"
      },
      "execution_count": 2,
      "outputs": [
        {
          "output_type": "stream",
          "name": "stdout",
          "text": [
            "Ano de nascimento: \n",
            "1989\n",
            "Mês de nascimento: \n",
            "09\n",
            "Dia de nascimento: \n",
            "28\n",
            "A pessoa nasceu em: 28/9/1989\n",
            "A pessoa nasceu no dia 28 do mês 9 do ano de 1989.\n"
          ]
        }
      ]
    },
    {
      "cell_type": "code",
      "source": [
        "#  script Python que leia dois números e tente mostrar a soma entre eles\n",
        "\n",
        "num1 = int(input(\"Primeiro número: \\n\"))\n",
        "num2 = int(input(\"Segundo número: \\n\"))\n",
        "print(\"A soma é:\", num1 + num2)\n",
        "print(\"A soma é: %d!\" % (num1 + num2))\n",
        "print(\"A soma é: {}!\".format(num1 + num2))\n",
        "\n",
        "# Os três formatos de print aceitam operações entre variáveis"
      ],
      "metadata": {
        "colab": {
          "base_uri": "https://localhost:8080/"
        },
        "id": "93mjm_fRRaNl",
        "outputId": "a15c7294-8ee7-487e-96b7-5cadb7695783"
      },
      "execution_count": 3,
      "outputs": [
        {
          "output_type": "stream",
          "name": "stdout",
          "text": [
            "Primeiro número: \n",
            "45\n",
            "Segundo número: \n",
            "65\n",
            "A soma é: 110\n",
            "A soma é: 110!\n",
            "A soma é: 110!\n"
          ]
        }
      ]
    },
    {
      "cell_type": "code",
      "source": [
        "from time import sleep\n",
        "#  programa que mostra na tela\n",
        "# Uma contagem regressiva para o estouro e fogos de artifício,\n",
        "# Indo de 10 até 0, com uma pausa de 1 segundo entre eles.\n",
        "# USANDO LOOP AGORA\n",
        "\n",
        "for i in range(10, -1, -1):\n",
        "    print(i)\n",
        "    sleep(1)\n",
        "print(\"FELIZ ANO NOVO!\")"
      ],
      "metadata": {
        "colab": {
          "base_uri": "https://localhost:8080/"
        },
        "id": "mxmts_bcSHsM",
        "outputId": "d073016b-119c-4a49-91d5-a19046e14a26"
      },
      "execution_count": 6,
      "outputs": [
        {
          "output_type": "stream",
          "name": "stdout",
          "text": [
            "10\n",
            "9\n",
            "8\n",
            "7\n",
            "6\n",
            "5\n",
            "4\n",
            "3\n",
            "2\n",
            "1\n",
            "0\n",
            "FELIZ ANO NOVO!\n"
          ]
        }
      ]
    },
    {
      "cell_type": "code",
      "source": [
        "#  programa que mostra na tela todos os números pares\n",
        "# que estão no intervalo entre 1 e 50\n",
        "\n",
        "for num in range(1, 51):\n",
        "    if num % 2 == 0:\n",
        "        print(num)"
      ],
      "metadata": {
        "id": "955cbTWsTssc"
      },
      "execution_count": null,
      "outputs": []
    }
  ]
}