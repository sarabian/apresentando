{
  "nbformat": 4,
  "nbformat_minor": 0,
  "metadata": {
    "colab": {
      "provenance": [],
      "authorship_tag": "ABX9TyOOTMqMdthbzhAclWOSnV0w",
      "include_colab_link": true
    },
    "kernelspec": {
      "name": "python3",
      "display_name": "Python 3"
    },
    "language_info": {
      "name": "python"
    }
  },
  "cells": [
    {
      "cell_type": "markdown",
      "metadata": {
        "id": "view-in-github",
        "colab_type": "text"
      },
      "source": [
        "<a href=\"https://colab.research.google.com/github/sarabian/apresentando/blob/main/passo2.ipynb\" target=\"_parent\"><img src=\"https://colab.research.google.com/assets/colab-badge.svg\" alt=\"Open In Colab\"/></a>"
      ]
    },
    {
      "cell_type": "code",
      "source": [
        "'''\n",
        " programa que faça o computador \"pensar\" em um número inteiro entre 0 e 5\n",
        "e peça para o usuário tentar descobrir qual foi o número escolhido pelo computador.\n",
        "\n",
        "O programa deverá escrever na tela se o usuário venceu ou perdeu.\n",
        "\n",
        "'''\n",
        "from random import randint\n",
        "from time import sleep\n",
        "ran = randint(0, 5)\n",
        "\n",
        "print(\"--=--\" * 15)\n",
        "print(\"Vou pensar em um número entre 0 e 5 e você deverá tentar adivinhá-lo.\")\n",
        "print(\"--=--\" * 15)\n",
        "num = int(input(\"Em qual número você acha que eu pensei?: \\n\"))\n",
        "print(\"Pensando...\")\n",
        "sleep(1)\n",
        "\n",
        "if num > 5 or num < 0:\n",
        "    if num < 0:\n",
        "        print(\"O número não pode ser negativo.\")\n",
        "    else:\n",
        "        print(\"Dica: o número está entre 0 e 5!\")\n",
        "else:\n",
        "    if num == ran:\n",
        "        print(\"Número digitado: {}.\".format(num))\n",
        "        print(\"Parabéns, você venceu!\")\n",
        "    else:\n",
        "        print(\"Número digitado: {}.\".format(num))\n",
        "        print(\"VOCÊ ERROU. \\nO número correto era {}. Tente novamente.\".format(ran))"
      ],
      "metadata": {
        "colab": {
          "base_uri": "https://localhost:8080/"
        },
        "id": "6hUAMJ2pVRVE",
        "outputId": "c3c04280-ae21-45cf-b7a0-15fc0c74c70b"
      },
      "execution_count": 8,
      "outputs": [
        {
          "output_type": "stream",
          "name": "stdout",
          "text": [
            "--=----=----=----=----=----=----=----=----=----=----=----=----=----=----=--\n",
            "Vou pensar em um número entre 0 e 5 e você deverá tentar adivinhá-lo.\n",
            "--=----=----=----=----=----=----=----=----=----=----=----=----=----=----=--\n",
            "Em qual número você acha que eu pensei?: \n",
            "3\n",
            "Pensando...\n",
            "Número digitado: 3.\n",
            "Parabéns, você venceu!\n"
          ]
        }
      ]
    },
    {
      "cell_type": "code",
      "source": [
        "# script Python que leia o dia, o mês e o ano de nascimento de uma pessoa e mostre uma mensagem com a data formatada\n",
        "\n",
        "ano = int(input(\"Ano de nascimento: \\n\"))\n",
        "mes = int(input(\"Mês de nascimento: \\n\"))\n",
        "dia = int(input(\"Dia de nascimento: \\n\"))\n",
        "\n",
        "print(\"A pessoa nasceu em: {}/{}/{}\".format(dia, mes, ano))\n",
        "print(\"A pessoa nasceu no dia {} do mês {} do ano de {}.\".format(dia, mes, ano))"
      ],
      "metadata": {
        "colab": {
          "base_uri": "https://localhost:8080/"
        },
        "id": "f90BvYSkPyON",
        "outputId": "eceadaf7-131c-474d-af2e-7ad7d905bb23"
      },
      "execution_count": 2,
      "outputs": [
        {
          "output_type": "stream",
          "name": "stdout",
          "text": [
            "Ano de nascimento: \n",
            "1989\n",
            "Mês de nascimento: \n",
            "09\n",
            "Dia de nascimento: \n",
            "28\n",
            "A pessoa nasceu em: 28/9/1989\n",
            "A pessoa nasceu no dia 28 do mês 9 do ano de 1989.\n"
          ]
        }
      ]
    },
    {
      "cell_type": "code",
      "source": [
        "from time import sleep\n",
        "#  programa que mostra na tela\n",
        "# Uma contagem regressiva para o estouro e fogos de artifício,\n",
        "# Indo de 10 até 0, com uma pausa de 1 segundo entre eles.\n",
        "# USANDO LOOP AGORA\n",
        "\n",
        "for i in range(10, -1, -1):\n",
        "    print(i)\n",
        "    sleep(1)\n",
        "print(\"FELIZ ANO NOVO!\")"
      ],
      "metadata": {
        "colab": {
          "base_uri": "https://localhost:8080/"
        },
        "id": "mxmts_bcSHsM",
        "outputId": "d073016b-119c-4a49-91d5-a19046e14a26"
      },
      "execution_count": 6,
      "outputs": [
        {
          "output_type": "stream",
          "name": "stdout",
          "text": [
            "10\n",
            "9\n",
            "8\n",
            "7\n",
            "6\n",
            "5\n",
            "4\n",
            "3\n",
            "2\n",
            "1\n",
            "0\n",
            "FELIZ ANO NOVO!\n"
          ]
        }
      ]
    },
    {
      "cell_type": "code",
      "source": [
        "#  programa que mostra na tela todos os números pares\n",
        "# que estão no intervalo entre 1 e 50\n",
        "\n",
        "for num in range(1, 51):\n",
        "    if num % 2 == 0:\n",
        "        print(num)"
      ],
      "metadata": {
        "id": "955cbTWsTssc"
      },
      "execution_count": null,
      "outputs": []
    }
  ]
}